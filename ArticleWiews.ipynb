{
 "cells": [
  {
   "cell_type": "code",
   "execution_count": 3,
   "metadata": {},
   "outputs": [
    {
     "name": "stdout",
     "output_type": "stream",
     "text": [
      "   id\n",
      "1   4\n",
      "0   7\n"
     ]
    }
   ],
   "source": [
    "import pandas as pd\n",
    "\n",
    "def article_views(views: pd.DataFrame) -> pd.DataFrame:\n",
    "    # Find the unique author IDs who have viewed their own articles\n",
    "    author_ids_with_own_views = views[views['author_id'] == views['viewer_id']]['author_id'].unique()\n",
    "    \n",
    "    # Create a DataFrame with the unique author IDs\n",
    "    result_df = pd.DataFrame({'id': author_ids_with_own_views})\n",
    "    \n",
    "    return result_df.sort_values(by='id')  # Sort the result by 'id'\n",
    "\n",
    "# Example usage\n",
    "data = [[1, 3, 5, '2019-08-01'], [1, 3, 6, '2019-08-02'], [2, 7, 7, '2019-08-01'],\n",
    "        [2, 7, 6, '2019-08-02'], [4, 7, 1, '2019-07-22'], [3, 4, 4, '2019-07-21'],\n",
    "        [3, 4, 4, '2019-07-21']]\n",
    "\n",
    "views = pd.DataFrame(data, columns=['article_id', 'author_id', 'viewer_id', 'view_date'])\n",
    "views['view_date'] = pd.to_datetime(views['view_date'])\n",
    "\n",
    "result = article_views(views)\n",
    "print(result)\n"
   ]
  },
  {
   "cell_type": "code",
   "execution_count": null,
   "metadata": {},
   "outputs": [],
   "source": []
  }
 ],
 "metadata": {
  "kernelspec": {
   "display_name": "base",
   "language": "python",
   "name": "python3"
  },
  "language_info": {
   "codemirror_mode": {
    "name": "ipython",
    "version": 3
   },
   "file_extension": ".py",
   "mimetype": "text/x-python",
   "name": "python",
   "nbconvert_exporter": "python",
   "pygments_lexer": "ipython3",
   "version": "3.11.3"
  },
  "orig_nbformat": 4
 },
 "nbformat": 4,
 "nbformat_minor": 2
}
